{
 "cells": [
  {
   "cell_type": "code",
   "execution_count": 14,
   "metadata": {
    "collapsed": false
   },
   "outputs": [
    {
     "name": "stderr",
     "output_type": "stream",
     "text": [
      "/usr/local/lib/python2.7/dist-packages/matplotlib/font_manager.py:273: UserWarning: Matplotlib is building the font cache using fc-list. This may take a moment.\n",
      "  warnings.warn('Matplotlib is building the font cache using fc-list. This may take a moment.')\n"
     ]
    }
   ],
   "source": [
    "%matplotlib inline\n",
    "%load_ext autoreload\n",
    "%autoreload 2\n",
    "\n",
    "import matplotlib\n",
    "import matplotlib.pyplot as plt\n",
    "import matplotlib.cm as cm\n",
    "from matplotlib import gridspec"
   ]
  },
  {
   "cell_type": "code",
   "execution_count": 1,
   "metadata": {
    "collapsed": false
   },
   "outputs": [],
   "source": [
    "import sys\n",
    "sys.path.append('..')"
   ]
  },
  {
   "cell_type": "code",
   "execution_count": 2,
   "metadata": {
    "collapsed": false
   },
   "outputs": [],
   "source": [
    "import os\n",
    "import time\n",
    "import numpy as np\n",
    "import tensorflow as tf\n",
    "from random import randint\n",
    "\n",
    "from ntm import NTM\n",
    "from utils import pprint\n",
    "from ntm_cell import NTMCell\n",
    "\n",
    "print_interval = 5\n",
    "\n",
    "\n",
    "def run(ntm, seq_length, sess, print_=True):\n",
    "    start_symbol = np.zeros([ntm.cell.input_dim], dtype=np.float32)\n",
    "    start_symbol[0] = 1\n",
    "    end_symbol = np.zeros([ntm.cell.input_dim], dtype=np.float32)\n",
    "    end_symbol[1] = 1\n",
    "\n",
    "    seq = generate_copy_sequence(seq_length, ntm.cell.input_dim - 2)\n",
    "\n",
    "    feed_dict = {input_:vec for vec, input_ in zip(seq, ntm.inputs)}\n",
    "    feed_dict.update(\n",
    "        {true_output:vec for vec, true_output in zip(seq, ntm.true_outputs)}\n",
    "    )\n",
    "    feed_dict.update({\n",
    "        ntm.start_symbol: start_symbol,\n",
    "        ntm.end_symbol: end_symbol\n",
    "    })\n",
    "\n",
    "    input_states = [state['write_w'][0] for state in ntm.input_states[seq_length]]\n",
    "    output_states = [state['read_w'][0] for state in ntm.get_output_states(seq_length)]\n",
    "\n",
    "    result = sess.run(ntm.get_outputs(seq_length) + \\\n",
    "                      input_states + output_states + \\\n",
    "                      [ntm.get_loss(seq_length)],\n",
    "                      feed_dict=feed_dict)\n",
    "\n",
    "    is_sz = len(input_states)\n",
    "    os_sz = len(output_states)\n",
    "\n",
    "    outputs = result[:seq_length]\n",
    "    read_ws = result[seq_length:seq_length + is_sz]\n",
    "    write_ws = result[seq_length + is_sz:seq_length + is_sz + os_sz]\n",
    "    loss = result[-1]\n",
    "\n",
    "    if print_:\n",
    "        np.set_printoptions(suppress=True)\n",
    "        print(\" true output : \")\n",
    "        pprint(seq)\n",
    "        print(\" predicted output :\")\n",
    "        pprint(np.round(outputs))\n",
    "        print(\" Loss : %f\" % loss)\n",
    "        np.set_printoptions(suppress=False)\n",
    "    else:\n",
    "        return seq, outputs, read_ws, write_ws, loss\n",
    "\n",
    "\n",
    "def train(ntm, config, sess):\n",
    "    if not os.path.isdir(config.checkpoint_dir):\n",
    "        raise Exception(\" [!] Directory %s not found\" % config.checkpoint_dir)\n",
    "\n",
    "    # delimiter flag for start and end\n",
    "    start_symbol = np.zeros([config.input_dim], dtype=np.float32)\n",
    "    start_symbol[0] = 1\n",
    "    end_symbol = np.zeros([config.input_dim], dtype=np.float32)\n",
    "    end_symbol[1] = 1\n",
    "\n",
    "    print(\" [*] Initialize all variables\")\n",
    "    tf.initialize_all_variables().run()\n",
    "    print(\" [*] Initialization finished\")\n",
    "\n",
    "    start_time = time.time()\n",
    "    for idx in xrange(config.epoch):\n",
    "        seq_length = randint(config.min_length, config.max_length)\n",
    "        seq = generate_copy_sequence(seq_length, config.input_dim - 2)\n",
    "\n",
    "        feed_dict = {input_:vec for vec, input_ in zip(seq, ntm.inputs)}\n",
    "        feed_dict.update(\n",
    "            {true_output:vec for vec, true_output in zip(seq, ntm.true_outputs)}\n",
    "        )\n",
    "        feed_dict.update({\n",
    "            ntm.start_symbol: start_symbol,\n",
    "            ntm.end_symbol: end_symbol\n",
    "        })\n",
    "\n",
    "        _, cost, step = sess.run([ntm.optims[seq_length],\n",
    "                                  ntm.get_loss(seq_length),\n",
    "                                  ntm.global_step], feed_dict=feed_dict)\n",
    "\n",
    "        if idx % 100 == 0:\n",
    "            ntm.save(config.checkpoint_dir, 'copy', step)\n",
    "\n",
    "        if idx % print_interval == 0:\n",
    "            print(\"[%5d] %2d: %.2f (%.1fs)\" \\\n",
    "                % (idx, seq_length, cost, time.time() - start_time))\n",
    "\n",
    "    print(\"Training Copy task finished\")\n",
    "\n",
    "\n",
    "def generate_copy_sequence(length, bits):\n",
    "    seq = np.zeros([length, bits + 2], dtype=np.float32)\n",
    "    for idx in xrange(length):\n",
    "        seq[idx, 2:bits+2] = np.random.rand(bits).round()\n",
    "    return list(seq)\n",
    "\n",
    "\n"
   ]
  },
  {
   "cell_type": "code",
   "execution_count": 12,
   "metadata": {
    "collapsed": false
   },
   "outputs": [],
   "source": [
    "input_dim=10\n",
    "output_dim=10\n",
    "\n",
    "sess = tf.InteractiveSession()\n",
    "\n",
    "cell = NTMCell(input_dim=input_dim, output_dim=output_dim)\n",
    "ntm = NTM(cell, sess, 1, 10, 100, forward_only=True)\n",
    "\n"
   ]
  },
  {
   "cell_type": "code",
   "execution_count": 5,
   "metadata": {
    "collapsed": false
   },
   "outputs": [],
   "source": [
    "ntm.max_length = 10"
   ]
  },
  {
   "cell_type": "code",
   "execution_count": 6,
   "metadata": {
    "collapsed": false
   },
   "outputs": [
    {
     "name": "stdout",
     "output_type": "stream",
     "text": [
      " [*] Reading checkpoints...\n"
     ]
    }
   ],
   "source": [
    "ntm.load('../checkpoint', 'copy')"
   ]
  },
  {
   "cell_type": "code",
   "execution_count": 8,
   "metadata": {
    "collapsed": false
   },
   "outputs": [],
   "source": [
    "from tasks import *"
   ]
  },
  {
   "cell_type": "code",
   "execution_count": 10,
   "metadata": {
    "collapsed": false
   },
   "outputs": [
    {
     "name": "stdout",
     "output_type": "stream",
     "text": [
      " true output : \n",
      "  ####  # \n",
      "  #  #   #\n",
      "   #### ##\n",
      "   ##   # \n",
      "   ### ## \n",
      " predicted output :\n",
      "  ####  # \n",
      "  #  #   #\n",
      "   #### ##\n",
      "   ##   # \n",
      "   ### ## \n",
      " Loss : 0.000001\n"
     ]
    }
   ],
   "source": [
    "run(ntm, 5, sess)"
   ]
  },
  {
   "cell_type": "code",
   "execution_count": 11,
   "metadata": {
    "collapsed": false
   },
   "outputs": [
    {
     "name": "stdout",
     "output_type": "stream",
     "text": [
      " true output : \n",
      "  #  ##  #\n",
      "  # ###  #\n",
      "  # ###  #\n",
      "         #\n",
      "       #  \n",
      "   ##   # \n",
      "   ##  #  \n",
      "    #  ###\n",
      "  #   ##  \n",
      "  ##  ## #\n",
      " predicted output :\n",
      "  #  ##  #\n",
      "  # ###  #\n",
      "  # ###  #\n",
      "         #\n",
      "       #  \n",
      "   ##   # \n",
      "   ##  #  \n",
      "    #  ###\n",
      "  #   ##  \n",
      "  ##  ## #\n",
      " Loss : 0.000002\n"
     ]
    }
   ],
   "source": [
    "run(ntm, 10, sess)"
   ]
  },
  {
   "cell_type": "code",
   "execution_count": 13,
   "metadata": {
    "collapsed": false
   },
   "outputs": [
    {
     "name": "stdout",
     "output_type": "stream",
     "text": [
      " true output : \n",
      "   ## # # \n",
      "   ## ### \n",
      "   ##### #\n",
      "   #  ## #\n",
      "  #   # # \n",
      "   #######\n",
      "   #   ###\n",
      "  ## #### \n",
      "  # ######\n",
      "    #   ##\n",
      "   ## ####\n",
      "   ## #   \n",
      "     #    \n",
      "  ##### ##\n",
      "  ###   ##\n",
      "    #### #\n",
      "  ## # #  \n",
      "     # # #\n",
      "  ## #   #\n",
      "  ##   # #\n",
      " predicted output :\n",
      "   ## # # \n",
      "   ## ### \n",
      "   ##### #\n",
      "   #  ## #\n",
      "  #   # # \n",
      "   #######\n",
      "   #   ###\n",
      "  ## #### \n",
      "  # ######\n",
      "    #   ##\n",
      "   ## ####\n",
      "   ## #   \n",
      "     #    \n",
      "  ##### ##\n",
      "  ###   ##\n",
      "    #### #\n",
      "  ## # #  \n",
      "     # # #\n",
      "  ## #   #\n",
      "  ##   # #\n",
      " Loss : 0.000008\n"
     ]
    }
   ],
   "source": [
    "run(ntm,20, sess)"
   ]
  },
  {
   "cell_type": "code",
   "execution_count": 15,
   "metadata": {
    "collapsed": true
   },
   "outputs": [],
   "source": [
    "def plot(ntm, seq_length, sess):\n",
    "    seq, outputs, read_w, write_w, loss = run(ntm, seq_length, sess, print_=False)\n",
    "    read_w[0] = np.squeeze(read_w[0])\n",
    "    write_w[0] = np.squeeze(write_w[0])\n",
    "\n",
    "    shape2 = list(np.array(outputs).shape)\n",
    "    shape2[0] += 2\n",
    "\n",
    "    shape3 = list(np.array(read_w).shape)\n",
    "    shape3[0] += 2\n",
    "\n",
    "    z1 = np.zeros_like(outputs)\n",
    "    z2 = np.zeros(shape2)\n",
    "\n",
    "    s1 = np.zeros_like(seq[0]); s1[0]=1\n",
    "    s2 = np.zeros_like(seq[0]); s2[1]=1\n",
    "\n",
    "    seq = [s1] + seq + [s2]\n",
    "\n",
    "    seq = np.r_[np.array(seq), z1]\n",
    "    outputs = np.r_[z2, outputs]\n",
    "\n",
    "    if seq_length >= 80:\n",
    "        fig = plt.figure(1,figsize=(20,16))\n",
    "        gs = gridspec.GridSpec(4, 1, height_ratios=[0.4, 0.4, 1.6, 1.6])\n",
    "    elif seq_length >= 60:\n",
    "        fig = plt.figure(1,figsize=(20,14))\n",
    "        gs = gridspec.GridSpec(4, 1, height_ratios=[0.6, 0.6, 1.4, 1.4])\n",
    "    elif seq_length >= 50:\n",
    "        fig = plt.figure(1,figsize=(20,14))\n",
    "        gs = gridspec.GridSpec(4, 1, height_ratios=[0.8, 0.8, 1.2, 1.2])\n",
    "    elif seq_length >= 20:\n",
    "        fig = plt.figure(1,figsize=(20,14))\n",
    "        gs = gridspec.GridSpec(4, 1, height_ratios=[0.9, 0.9, 1.1, 1.1])\n",
    "    else:\n",
    "        fig = plt.figure(1,figsize=(20,10))\n",
    "        gs = gridspec.GridSpec(4, 1, height_ratios=[1, 1, 1, 1])\n",
    "\n",
    "    ax0 = plt.subplot(gs[0])\n",
    "    ax0.imshow(seq.T, interpolation='nearest')\n",
    "    ax0.set_ylabel('input')\n",
    "    \n",
    "    ax1 = plt.subplot(gs[1])\n",
    "    ax1.imshow(outputs.T, interpolation='nearest')\n",
    "    ax1.set_xlabel('time')\n",
    "    ax1.set_ylabel('output')\n",
    "    \n",
    "    ax2 = plt.subplot(gs[2])\n",
    "    ax2.imshow(read_w[1:-1], cmap='Greys', interpolation='nearest')\n",
    "    ax2.set_xlabel('write weight')\n",
    "    ax2.set_ylabel('time')\n",
    "    \n",
    "    ax3 = plt.subplot(gs[3])\n",
    "    ax3.imshow(read_w[1:-1], cmap='Greys', interpolation='nearest')\n",
    "    ax3.set_xlabel('read weight')\n",
    "    ax3.set_ylabel('time')\n",
    "\n",
    "    print(\"Loss : %f\" % loss)"
   ]
  },
  {
   "cell_type": "code",
   "execution_count": 16,
   "metadata": {
    "collapsed": false
   },
   "outputs": [
    {
     "name": "stdout",
     "output_type": "stream",
     "text": [
      "Loss : 0.000001\n"
     ]
    },
    {
     "data": {
      "image/png": "[encoded data removed]",
      "text/plain": [
       "<matplotlib.figure.Figure at 0x7fa2d8dfc5d0>"
      ]
     },
     "metadata": {},
     "output_type": "display_data"
    }
   ],
   "source": [
    "plot(ntm, 5, sess)"
   ]
  },
  {
   "cell_type": "code",
   "execution_count": 17,
   "metadata": {
    "collapsed": false
   },
   "outputs": [
    {
     "name": "stdout",
     "output_type": "stream",
     "text": [
      "Loss : 0.139629\n"
     ]
    },
    {
     "data": {
      "image/png": "[encoded data removed]",
      "text/plain": [
       "<matplotlib.figure.Figure at 0x7fa117414a50>"
      ]
     },
     "metadata": {},
     "output_type": "display_data"
    }
   ],
   "source": [
    "plot(ntm, 50, sess)"
   ]
  }
 ],
 "metadata": {
  "kernelspec": {
   "display_name": "Python 2",
   "language": "python",
   "name": "python2"
  },
  "language_info": {
   "codemirror_mode": {
    "name": "ipython",
    "version": 2
   },
   "file_extension": ".py",
   "mimetype": "text/x-python",
   "name": "python",
   "nbconvert_exporter": "python",
   "pygments_lexer": "ipython2",
   "version": "2.7.6"
  }
 },
 "nbformat": 4,
 "nbformat_minor": 1
}
